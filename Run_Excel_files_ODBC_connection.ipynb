{
 "cells": [
  {
   "cell_type": "markdown",
   "id": "2e35f5e8-8fc0-4532-a35c-54b853804929",
   "metadata": {},
   "source": [
    "# Run all Excel files in a folder by refreshing all of your ODBC connections"
   ]
  },
  {
   "cell_type": "code",
   "execution_count": 1,
   "id": "fb8e5105-2367-423c-bfc9-332cb2e4acfe",
   "metadata": {},
   "outputs": [
    {
     "name": "stdout",
     "output_type": "stream",
     "text": [
      "Aberto: Consistency Carrier Aggregation.xlsx\n",
      "Atualizando: Consistency Carrier Aggregation.xlsx\n",
      "Salvando: Consistency Carrier Aggregation.xlsx\n",
      "Aberto: Consistency check 3G all.xlsx\n",
      "Atualizando: Consistency check 3G all.xlsx\n",
      "Salvando: Consistency check 3G all.xlsx\n",
      "Aberto: Consistency Check LTE Blind Update.xlsx\n",
      "Atualizando: Consistency Check LTE Blind Update.xlsx\n",
      "Salvando: Consistency Check LTE Blind Update.xlsx\n",
      "Aberto: Consistency EUtranCellRelation Wrong PLMNID.xlsx\n",
      "Atualizando: Consistency EUtranCellRelation Wrong PLMNID.xlsx\n",
      "Salvando: Consistency EUtranCellRelation Wrong PLMNID.xlsx\n",
      "Aberto: Consistency EUtranFreqRelation BASE_N_MG.xlsx\n",
      "Atualizando: Consistency EUtranFreqRelation BASE_N_MG.xlsx\n",
      "Salvando: Consistency EUtranFreqRelation BASE_N_MG.xlsx\n",
      "Aberto: Consistency EUtranFreqRelation SP.xlsx\n",
      "Atualizando: Consistency EUtranFreqRelation SP.xlsx\n",
      "Salvando: Consistency EUtranFreqRelation SP.xlsx\n",
      "Aberto: Consistency LTE Mobility.xlsx\n",
      "Atualizando: Consistency LTE Mobility.xlsx\n",
      "Salvando: Consistency LTE Mobility.xlsx\n",
      "Aberto: Consistency Tx Ports.xlsx\n",
      "Atualizando: Consistency Tx Ports.xlsx\n",
      "Salvando: Consistency Tx Ports.xlsx\n",
      "Aberto: Dump_LTE_WCDMA.xlsx\n",
      "Atualizando: Dump_LTE_WCDMA.xlsx\n",
      "Salvando: Dump_LTE_WCDMA.xlsx\n",
      "Aberto: Informacoes E2E.xlsx\n",
      "Atualizando: Informacoes E2E.xlsx\n",
      "Salvando: Informacoes E2E.xlsx\n",
      "Aberto: Missing Neighbor Cidade.xlsx\n",
      "Atualizando: Missing Neighbor Cidade.xlsx\n",
      "Salvando: Missing Neighbor Cidade.xlsx\n",
      "Aberto: TAC LAC Acesso.xlsx\n",
      "Atualizando: TAC LAC Acesso.xlsx\n",
      "Salvando: TAC LAC Acesso.xlsx\n"
     ]
    }
   ],
   "source": [
    "import os\n",
    "import win32com.client\n",
    "\n",
    "path_to_excel_files = \"C:\\\\Automatics\\\\Excel_files\"  # Update to your Excel files folder\n",
    "\n",
    "excel = win32com.client.Dispatch(\"Excel.Application\")\n",
    "excel.DisplayAlerts = False  # Ignore and prevent pop-ups\n",
    "\n",
    "for file in os.listdir(path_to_excel_files):\n",
    "    filepath = os.path.join(path_to_excel_files, file)\n",
    "    if file.endswith(\".xlsx\") and os.path.isfile(filepath):  # Check if the file is an Excel file and exists\n",
    "        print(f\"Opening: {file}\")\n",
    "        wb = excel.Workbooks.Open(filepath)\n",
    "        \n",
    "        excel.Visible = False  # Set to False to keep Excel invisible\n",
    "\n",
    "        print(f\"Updating: {file}\")\n",
    "        wb.RefreshAll()  # Update all connections\n",
    "        \n",
    "        # Wait for ODBC refresh to complete\n",
    "        excel.CalculateUntilAsyncQueriesDone()\n",
    "\n",
    "        print(f\"Saving: {file}\")\n",
    "        wb.SaveAs(filepath, FileFormat=51)  # FileFormat=51 corresponds to xlsx\n",
    "        wb.Close()\n",
    "\n",
    "excel.Quit()"
   ]
  }
 ],
 "metadata": {
  "kernelspec": {
   "display_name": "Python 3 (ipykernel)",
   "language": "python",
   "name": "python3"
  },
  "language_info": {
   "codemirror_mode": {
    "name": "ipython",
    "version": 3
   },
   "file_extension": ".py",
   "mimetype": "text/x-python",
   "name": "python",
   "nbconvert_exporter": "python",
   "pygments_lexer": "ipython3",
   "version": "3.9.13"
  }
 },
 "nbformat": 4,
 "nbformat_minor": 5
}
